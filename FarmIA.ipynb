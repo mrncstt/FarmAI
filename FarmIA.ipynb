{
  "nbformat": 4,
  "nbformat_minor": 0,
  "metadata": {
    "colab": {
      "name": "arroz.ipynb",
      "provenance": [],
      "authorship_tag": "ABX9TyMkmx70M+ll2IxAEgi+vsFR",
      "include_colab_link": true
    },
    "kernelspec": {
      "name": "python3",
      "display_name": "Python 3"
    }
  },
  "cells": [
    {
      "cell_type": "markdown",
      "metadata": {
        "id": "view-in-github",
        "colab_type": "text"
      },
      "source": [
        "<a href=\"https://colab.research.google.com/github/017mori/FarmAI/blob/master/arroz.ipynb\" target=\"_parent\"><img src=\"https://colab.research.google.com/assets/colab-badge.svg\" alt=\"Open In Colab\"/></a>"
      ]
    },
    {
      "cell_type": "markdown",
      "metadata": {
        "id": "i4KUm0ZPfCDA",
        "colab_type": "text"
      },
      "source": [
        "# Analise sobre o preço médio de arroz no RG vs Produtividade no RG\n",
        "\n",
        "\n"
      ]
    },
    {
      "cell_type": "code",
      "metadata": {
        "id": "vBdLO9KtekLY",
        "colab_type": "code",
        "colab": {}
      },
      "source": [
        "import pandas as pd\n",
        "import numpy as np\n",
        "import matplotlib.pyplot as plt\n",
        "#Para as regreções\n",
        "from sklearn.linear_model import LinearRegression\n",
        "from sklearn import preprocessing\n",
        "from mpl_toolkits.mplot3d import Axes3D\n",
        "\n",
        "\n"
      ],
      "execution_count": 134,
      "outputs": []
    },
    {
      "cell_type": "markdown",
      "metadata": {
        "id": "AnbHQ2IdfBKn",
        "colab_type": "text"
      },
      "source": [
        "##Importando os bancos de dados\n"
      ]
    },
    {
      "cell_type": "code",
      "metadata": {
        "id": "l2VC3hVjfAMf",
        "colab_type": "code",
        "colab": {
          "base_uri": "https://localhost:8080/",
          "height": 215
        },
        "outputId": "44f76553-de24-4c36-e345-d44985f6aa80"
      },
      "source": [
        "#Bancos de dados de Alegrete, cidade de RG\n",
        "url = \"https://raw.githubusercontent.com/017mori/FarmAI/master/ALEGRETE.csv\"\n",
        "alegrete_df = pd.read_csv(url, sep =\";\", decimal=\",\")\n",
        "alegrete_df.head()"
      ],
      "execution_count": 93,
      "outputs": [
        {
          "output_type": "execute_result",
          "data": {
            "text/html": [
              "<div>\n",
              "<style scoped>\n",
              "    .dataframe tbody tr th:only-of-type {\n",
              "        vertical-align: middle;\n",
              "    }\n",
              "\n",
              "    .dataframe tbody tr th {\n",
              "        vertical-align: top;\n",
              "    }\n",
              "\n",
              "    .dataframe thead th {\n",
              "        text-align: right;\n",
              "    }\n",
              "</style>\n",
              "<table border=\"1\" class=\"dataframe\">\n",
              "  <thead>\n",
              "    <tr style=\"text-align: right;\">\n",
              "      <th></th>\n",
              "      <th>DATA</th>\n",
              "      <th>PRODUTIVIDADE_FINAL</th>\n",
              "      <th>PERDA_FINAL</th>\n",
              "      <th>TOTAL_DE_DIAS_SEM_CHUVA</th>\n",
              "      <th>CHUVA_DO_PERIODO</th>\n",
              "      <th>TEMPERATURA_MEDIA</th>\n",
              "      <th>MAIOR_TEMPERATURA_MAX</th>\n",
              "      <th>MENOR_TEMPERATURA_MIN</th>\n",
              "      <th>Estadual</th>\n",
              "      <th>Nacional</th>\n",
              "    </tr>\n",
              "  </thead>\n",
              "  <tbody>\n",
              "    <tr>\n",
              "      <th>0</th>\n",
              "      <td>01/11/2019</td>\n",
              "      <td>0.7262</td>\n",
              "      <td>0.2738</td>\n",
              "      <td>78</td>\n",
              "      <td>477</td>\n",
              "      <td>15.88</td>\n",
              "      <td>37.4</td>\n",
              "      <td>-3.2</td>\n",
              "      <td>45.5056</td>\n",
              "      <td>45.3202</td>\n",
              "    </tr>\n",
              "    <tr>\n",
              "      <th>1</th>\n",
              "      <td>01/12/2019</td>\n",
              "      <td>0.5767</td>\n",
              "      <td>0.4233</td>\n",
              "      <td>76</td>\n",
              "      <td>474</td>\n",
              "      <td>18.43</td>\n",
              "      <td>37.4</td>\n",
              "      <td>1.7</td>\n",
              "      <td>45.9425</td>\n",
              "      <td>45.2417</td>\n",
              "    </tr>\n",
              "    <tr>\n",
              "      <th>2</th>\n",
              "      <td>01/01/2020</td>\n",
              "      <td>0.6732</td>\n",
              "      <td>0.3268</td>\n",
              "      <td>77</td>\n",
              "      <td>479</td>\n",
              "      <td>20.88</td>\n",
              "      <td>39.3</td>\n",
              "      <td>3.2</td>\n",
              "      <td>46.9230</td>\n",
              "      <td>46.1679</td>\n",
              "    </tr>\n",
              "    <tr>\n",
              "      <th>3</th>\n",
              "      <td>01/02/2020</td>\n",
              "      <td>0.4276</td>\n",
              "      <td>0.5724</td>\n",
              "      <td>77</td>\n",
              "      <td>502</td>\n",
              "      <td>23.14</td>\n",
              "      <td>39.3</td>\n",
              "      <td>8.8</td>\n",
              "      <td>48.6878</td>\n",
              "      <td>47.8821</td>\n",
              "    </tr>\n",
              "    <tr>\n",
              "      <th>4</th>\n",
              "      <td>01/03/2020</td>\n",
              "      <td>0.2363</td>\n",
              "      <td>0.7637</td>\n",
              "      <td>83</td>\n",
              "      <td>358</td>\n",
              "      <td>24.15</td>\n",
              "      <td>39.3</td>\n",
              "      <td>8.6</td>\n",
              "      <td>49.5096</td>\n",
              "      <td>49.2383</td>\n",
              "    </tr>\n",
              "  </tbody>\n",
              "</table>\n",
              "</div>"
            ],
            "text/plain": [
              "         DATA  PRODUTIVIDADE_FINAL  ...  Estadual  Nacional\n",
              "0  01/11/2019               0.7262  ...   45.5056   45.3202\n",
              "1  01/12/2019               0.5767  ...   45.9425   45.2417\n",
              "2  01/01/2020               0.6732  ...   46.9230   46.1679\n",
              "3  01/02/2020               0.4276  ...   48.6878   47.8821\n",
              "4  01/03/2020               0.2363  ...   49.5096   49.2383\n",
              "\n",
              "[5 rows x 10 columns]"
            ]
          },
          "metadata": {
            "tags": []
          },
          "execution_count": 93
        }
      ]
    },
    {
      "cell_type": "markdown",
      "metadata": {
        "id": "k-43XrHNjjHq",
        "colab_type": "text"
      },
      "source": [
        "#Analise do banco de dados\n",
        "\n"
      ]
    },
    {
      "cell_type": "code",
      "metadata": {
        "id": "H7WInoAQjogW",
        "colab_type": "code",
        "colab": {
          "base_uri": "https://localhost:8080/",
          "height": 302
        },
        "outputId": "2c7ae9ec-d66a-4dcf-86b3-95247a0d9538"
      },
      "source": [
        "alegrete_df.info()"
      ],
      "execution_count": null,
      "outputs": [
        {
          "output_type": "stream",
          "text": [
            "<class 'pandas.core.frame.DataFrame'>\n",
            "RangeIndex: 9 entries, 0 to 8\n",
            "Data columns (total 10 columns):\n",
            " #   Column                   Non-Null Count  Dtype  \n",
            "---  ------                   --------------  -----  \n",
            " 0   DATA                     9 non-null      object \n",
            " 1   PRODUTIVIDADE_FINAL      9 non-null      float64\n",
            " 2   PERDA_FINAL              9 non-null      float64\n",
            " 3   TOTAL_DE_DIAS_SEM_CHUVA  9 non-null      int64  \n",
            " 4   CHUVA_DO_PERIODO         9 non-null      int64  \n",
            " 5   TEMPERATURA_MEDIA        9 non-null      float64\n",
            " 6   MAIOR_TEMPERATURA_MAX    9 non-null      float64\n",
            " 7   MENOR_TEMPERATURA_MIN    9 non-null      float64\n",
            " 8   Estadual                 9 non-null      float64\n",
            " 9   Nacional                 9 non-null      float64\n",
            "dtypes: float64(7), int64(2), object(1)\n",
            "memory usage: 848.0+ bytes\n"
          ],
          "name": "stdout"
        }
      ]
    },
    {
      "cell_type": "markdown",
      "metadata": {
        "id": "9C2ScD23l2WI",
        "colab_type": "text"
      },
      "source": [
        "#Analise descritiva dos dados"
      ]
    },
    {
      "cell_type": "code",
      "metadata": {
        "id": "TUQWWiJnkmlK",
        "colab_type": "code",
        "colab": {
          "base_uri": "https://localhost:8080/",
          "height": 284
        },
        "outputId": "7719d115-137d-4b29-9c22-7e00b17a208b"
      },
      "source": [
        "alegrete_df.describe()"
      ],
      "execution_count": null,
      "outputs": [
        {
          "output_type": "execute_result",
          "data": {
            "text/html": [
              "<div>\n",
              "<style scoped>\n",
              "    .dataframe tbody tr th:only-of-type {\n",
              "        vertical-align: middle;\n",
              "    }\n",
              "\n",
              "    .dataframe tbody tr th {\n",
              "        vertical-align: top;\n",
              "    }\n",
              "\n",
              "    .dataframe thead th {\n",
              "        text-align: right;\n",
              "    }\n",
              "</style>\n",
              "<table border=\"1\" class=\"dataframe\">\n",
              "  <thead>\n",
              "    <tr style=\"text-align: right;\">\n",
              "      <th></th>\n",
              "      <th>PRODUTIVIDADE_FINAL</th>\n",
              "      <th>PERDA_FINAL</th>\n",
              "      <th>TOTAL_DE_DIAS_SEM_CHUVA</th>\n",
              "      <th>CHUVA_DO_PERIODO</th>\n",
              "      <th>TEMPERATURA_MEDIA</th>\n",
              "      <th>MAIOR_TEMPERATURA_MAX</th>\n",
              "      <th>MENOR_TEMPERATURA_MIN</th>\n",
              "      <th>Estadual</th>\n",
              "      <th>Nacional</th>\n",
              "    </tr>\n",
              "  </thead>\n",
              "  <tbody>\n",
              "    <tr>\n",
              "      <th>count</th>\n",
              "      <td>9.000000</td>\n",
              "      <td>9.000000</td>\n",
              "      <td>9.000000</td>\n",
              "      <td>9.000000</td>\n",
              "      <td>9.000000</td>\n",
              "      <td>9.000000</td>\n",
              "      <td>9.000000</td>\n",
              "      <td>9.000000</td>\n",
              "      <td>9.000000</td>\n",
              "    </tr>\n",
              "    <tr>\n",
              "      <th>mean</th>\n",
              "      <td>0.437911</td>\n",
              "      <td>0.562089</td>\n",
              "      <td>84.555556</td>\n",
              "      <td>380.111111</td>\n",
              "      <td>21.212222</td>\n",
              "      <td>39.188889</td>\n",
              "      <td>4.177778</td>\n",
              "      <td>52.033400</td>\n",
              "      <td>50.916122</td>\n",
              "    </tr>\n",
              "    <tr>\n",
              "      <th>std</th>\n",
              "      <td>0.180555</td>\n",
              "      <td>0.180555</td>\n",
              "      <td>8.017342</td>\n",
              "      <td>108.060683</td>\n",
              "      <td>2.974902</td>\n",
              "      <td>1.064712</td>\n",
              "      <td>4.120612</td>\n",
              "      <td>6.489731</td>\n",
              "      <td>5.625598</td>\n",
              "    </tr>\n",
              "    <tr>\n",
              "      <th>min</th>\n",
              "      <td>0.236300</td>\n",
              "      <td>0.273800</td>\n",
              "      <td>76.000000</td>\n",
              "      <td>221.000000</td>\n",
              "      <td>15.880000</td>\n",
              "      <td>37.400000</td>\n",
              "      <td>-3.200000</td>\n",
              "      <td>45.505600</td>\n",
              "      <td>45.241700</td>\n",
              "    </tr>\n",
              "    <tr>\n",
              "      <th>25%</th>\n",
              "      <td>0.287100</td>\n",
              "      <td>0.423300</td>\n",
              "      <td>77.000000</td>\n",
              "      <td>331.000000</td>\n",
              "      <td>19.050000</td>\n",
              "      <td>39.300000</td>\n",
              "      <td>1.700000</td>\n",
              "      <td>46.923000</td>\n",
              "      <td>46.167900</td>\n",
              "    </tr>\n",
              "    <tr>\n",
              "      <th>50%</th>\n",
              "      <td>0.416300</td>\n",
              "      <td>0.583700</td>\n",
              "      <td>83.000000</td>\n",
              "      <td>358.000000</td>\n",
              "      <td>21.150000</td>\n",
              "      <td>39.300000</td>\n",
              "      <td>3.300000</td>\n",
              "      <td>49.509600</td>\n",
              "      <td>49.238300</td>\n",
              "    </tr>\n",
              "    <tr>\n",
              "      <th>75%</th>\n",
              "      <td>0.576700</td>\n",
              "      <td>0.712900</td>\n",
              "      <td>93.000000</td>\n",
              "      <td>477.000000</td>\n",
              "      <td>23.550000</td>\n",
              "      <td>40.000000</td>\n",
              "      <td>8.600000</td>\n",
              "      <td>56.039800</td>\n",
              "      <td>54.319500</td>\n",
              "    </tr>\n",
              "    <tr>\n",
              "      <th>max</th>\n",
              "      <td>0.726200</td>\n",
              "      <td>0.763700</td>\n",
              "      <td>95.000000</td>\n",
              "      <td>502.000000</td>\n",
              "      <td>24.680000</td>\n",
              "      <td>40.000000</td>\n",
              "      <td>8.800000</td>\n",
              "      <td>62.548100</td>\n",
              "      <td>60.312200</td>\n",
              "    </tr>\n",
              "  </tbody>\n",
              "</table>\n",
              "</div>"
            ],
            "text/plain": [
              "       PRODUTIVIDADE_FINAL  PERDA_FINAL  ...   Estadual   Nacional\n",
              "count             9.000000     9.000000  ...   9.000000   9.000000\n",
              "mean              0.437911     0.562089  ...  52.033400  50.916122\n",
              "std               0.180555     0.180555  ...   6.489731   5.625598\n",
              "min               0.236300     0.273800  ...  45.505600  45.241700\n",
              "25%               0.287100     0.423300  ...  46.923000  46.167900\n",
              "50%               0.416300     0.583700  ...  49.509600  49.238300\n",
              "75%               0.576700     0.712900  ...  56.039800  54.319500\n",
              "max               0.726200     0.763700  ...  62.548100  60.312200\n",
              "\n",
              "[8 rows x 9 columns]"
            ]
          },
          "metadata": {
            "tags": []
          },
          "execution_count": 70
        }
      ]
    },
    {
      "cell_type": "markdown",
      "metadata": {
        "id": "lPDCaHbXuoSB",
        "colab_type": "text"
      },
      "source": [
        "#Visualização dos dados"
      ]
    },
    {
      "cell_type": "code",
      "metadata": {
        "id": "WpEYgIdyl9eO",
        "colab_type": "code",
        "colab": {
          "base_uri": "https://localhost:8080/",
          "height": 265
        },
        "outputId": "30ca1870-c64c-47d8-c669-77dd3bb0be70"
      },
      "source": [
        "plt.scatter(alegrete_df[\"PRODUTIVIDADE_FINAL\"],alegrete_df[\"CHUVA_DO_PERIODO\"])\n",
        "plt.show()"
      ],
      "execution_count": null,
      "outputs": [
        {
          "output_type": "display_data",
          "data": {
            "image/png": "[encoded data removed]",
            "text/plain": [
              "<Figure size 432x288 with 1 Axes>"
            ]
          },
          "metadata": {
            "tags": [],
            "needs_background": "light"
          }
        }
      ]
    },
    {
      "cell_type": "code",
      "metadata": {
        "id": "U40eheov3FBq",
        "colab_type": "code",
        "colab": {
          "base_uri": "https://localhost:8080/",
          "height": 265
        },
        "outputId": "408742ab-78c0-40fd-b7fc-1cea170f4608"
      },
      "source": [
        "plt.scatter(alegrete_df[\"PRODUTIVIDADE_FINAL\"],alegrete_df[\"Estadual\"])\n",
        "plt.show()"
      ],
      "execution_count": null,
      "outputs": [
        {
          "output_type": "display_data",
          "data": {
            "image/png": "[encoded data removed]",
            "text/plain": [
              "<Figure size 432x288 with 1 Axes>"
            ]
          },
          "metadata": {
            "tags": [],
            "needs_background": "light"
          }
        }
      ]
    },
    {
      "cell_type": "markdown",
      "metadata": {
        "id": "JNX3e0ut3byF",
        "colab_type": "text"
      },
      "source": [
        "#Regressão Linear"
      ]
    },
    {
      "cell_type": "code",
      "metadata": {
        "id": "7z4Kzt0V3m9c",
        "colab_type": "code",
        "colab": {
          "base_uri": "https://localhost:8080/",
          "height": 477
        },
        "outputId": "3cd851d0-78cb-491f-ea05-1b65132da83d"
      },
      "source": [
        "for i in range(8):\n",
        "\n",
        "  x = alegrete_df.iloc[:,1]\n",
        "  y = alegrete_df.iloc[:,i+2]\n",
        "\n",
        "  x = x[:, np.newaxis]\n",
        "  y = y[:, np.newaxis]\n",
        "\n",
        "  model = LinearRegression()\n",
        "  model.fit(x, y)\n",
        "  y_pred = model.predict(x)\n",
        "  r_sq = model.score(x, y)\n",
        "\n",
        "  plt.scatter(x, y)\n",
        "  plt.plot(x, y_pred, color='r')\n",
        "  plt.show()\n",
        "  print('coefficient of determination:', r_sq)\n",
        "  print('intercept:', model.intercept_)\n",
        "  print('slope:', model.coef_)"
      ],
      "execution_count": 105,
      "outputs": [
        {
          "output_type": "display_data",
          "data": {
            "image/png": "[encoded data removed]",
            "text/plain": [
              "<Figure size 432x288 with 1 Axes>"
            ]
          },
          "metadata": {
            "tags": [],
            "needs_background": "light"
          }
        },
        {
          "output_type": "error",
          "ename": "TypeError",
          "evalue": "ignored",
          "traceback": [
            "\u001b[0;31m---------------------------------------------------------------------------\u001b[0m",
            "\u001b[0;31mTypeError\u001b[0m                                 Traceback (most recent call last)",
            "\u001b[0;32m<ipython-input-105-5aaa2f46ffbe>\u001b[0m in \u001b[0;36m<module>\u001b[0;34m()\u001b[0m\n\u001b[1;32m     15\u001b[0m \u001b[0mplt\u001b[0m\u001b[0;34m.\u001b[0m\u001b[0mplot\u001b[0m\u001b[0;34m(\u001b[0m\u001b[0mx\u001b[0m\u001b[0;34m,\u001b[0m \u001b[0my_pred\u001b[0m\u001b[0;34m,\u001b[0m \u001b[0mcolor\u001b[0m\u001b[0;34m=\u001b[0m\u001b[0;34m'r'\u001b[0m\u001b[0;34m)\u001b[0m\u001b[0;34m\u001b[0m\u001b[0;34m\u001b[0m\u001b[0m\n\u001b[1;32m     16\u001b[0m \u001b[0mplt\u001b[0m\u001b[0;34m.\u001b[0m\u001b[0mshow\u001b[0m\u001b[0;34m(\u001b[0m\u001b[0;34m)\u001b[0m\u001b[0;34m\u001b[0m\u001b[0;34m\u001b[0m\u001b[0m\n\u001b[0;32m---> 17\u001b[0;31m \u001b[0mprint\u001b[0m\u001b[0;34m(\u001b[0m\u001b[0;34m\"coefficient of determination:\"\u001b[0m\u001b[0;34m,\u001b[0m \u001b[0mr_sq\u001b[0m\u001b[0;34m)\u001b[0m\u001b[0;34m\u001b[0m\u001b[0;34m\u001b[0m\u001b[0m\n\u001b[0m\u001b[1;32m     18\u001b[0m \u001b[0mprint\u001b[0m\u001b[0;34m(\u001b[0m\u001b[0;34m'intercept:'\u001b[0m\u001b[0;34m,\u001b[0m \u001b[0mmodel\u001b[0m\u001b[0;34m.\u001b[0m\u001b[0mintercept_\u001b[0m\u001b[0;34m)\u001b[0m\u001b[0;34m\u001b[0m\u001b[0;34m\u001b[0m\u001b[0m\n\u001b[1;32m     19\u001b[0m \u001b[0mprint\u001b[0m\u001b[0;34m(\u001b[0m\u001b[0;34m'slope:'\u001b[0m\u001b[0;34m,\u001b[0m \u001b[0mmodel\u001b[0m\u001b[0;34m.\u001b[0m\u001b[0mcoef_\u001b[0m\u001b[0;34m)\u001b[0m\u001b[0;34m\u001b[0m\u001b[0;34m\u001b[0m\u001b[0m\n",
            "\u001b[0;31mTypeError\u001b[0m: 'int' object is not callable"
          ]
        }
      ]
    },
    {
      "cell_type": "markdown",
      "metadata": {
        "id": "g5Dd8212-4Yv",
        "colab_type": "text"
      },
      "source": [
        "#Regreção Linear Multipla"
      ]
    },
    {
      "cell_type": "code",
      "metadata": {
        "id": "c7cZbz0v_CMz",
        "colab_type": "code",
        "colab": {
          "base_uri": "https://localhost:8080/",
          "height": 34
        },
        "outputId": "0d47b644-828f-4294-dc82-04e69c1d6d55"
      },
      "source": [
        "y = alegrete_df.iloc[:,2]\n",
        "x = alegrete_df.iloc[:,3:10]\n",
        "x, y = np.array(x), np.array(y)\n",
        "\n",
        "model = LinearRegression().fit(x, y)\n",
        "r_sq = model.score(x, y)\n",
        "r_sq "
      ],
      "execution_count": 127,
      "outputs": [
        {
          "output_type": "execute_result",
          "data": {
            "text/plain": [
              "0.9993376556382093"
            ]
          },
          "metadata": {
            "tags": []
          },
          "execution_count": 127
        }
      ]
    },
    {
      "cell_type": "code",
      "metadata": {
        "id": "9F5RdZqdAp2J",
        "colab_type": "code",
        "colab": {
          "base_uri": "https://localhost:8080/",
          "height": 34
        },
        "outputId": "2e1023d0-2733-44cc-f03b-b8f4977788ed"
      },
      "source": [
        "model.intercept_"
      ],
      "execution_count": 128,
      "outputs": [
        {
          "output_type": "execute_result",
          "data": {
            "text/plain": [
              "3.829487874562121"
            ]
          },
          "metadata": {
            "tags": []
          },
          "execution_count": 128
        }
      ]
    },
    {
      "cell_type": "code",
      "metadata": {
        "id": "MVcYiBWsAw_Z",
        "colab_type": "code",
        "colab": {
          "base_uri": "https://localhost:8080/",
          "height": 50
        },
        "outputId": "16eb5bcb-fcfb-446b-e8f2-2b7bf88482a5"
      },
      "source": [
        "model.coef_"
      ],
      "execution_count": 129,
      "outputs": [
        {
          "output_type": "execute_result",
          "data": {
            "text/plain": [
              "array([ 0.0096925 ,  0.00172244,  0.21925384, -0.31898933, -0.07023409,\n",
              "       -0.08128046,  0.14987444])"
            ]
          },
          "metadata": {
            "tags": []
          },
          "execution_count": 129
        }
      ]
    },
    {
      "cell_type": "code",
      "metadata": {
        "id": "FUuSzvfkA0MY",
        "colab_type": "code",
        "colab": {
          "base_uri": "https://localhost:8080/",
          "height": 50
        },
        "outputId": "b8e8efc2-d151-4c00-8571-dbba47217aeb"
      },
      "source": [
        "y_pred = model.predict(x)\n",
        "y_pred"
      ],
      "execution_count": 130,
      "outputs": [
        {
          "output_type": "execute_result",
          "data": {
            "text/plain": [
              "array([0.27702924, 0.42015058, 0.32331453, 0.57860441, 0.76068459,\n",
              "       0.68228255, 0.72061857, 0.71184797, 0.58426757])"
            ]
          },
          "metadata": {
            "tags": []
          },
          "execution_count": 130
        }
      ]
    },
    {
      "cell_type": "markdown",
      "metadata": {
        "id": "NYQZU_IoA9wI",
        "colab_type": "text"
      },
      "source": [
        "#Regressão Polinomial"
      ]
    },
    {
      "cell_type": "code",
      "metadata": {
        "id": "OwvCQwq9BDWu",
        "colab_type": "code",
        "colab": {
          "base_uri": "https://localhost:8080/",
          "height": 229
        },
        "outputId": "d1b58882-a33f-470b-b189-aea69e7219a1"
      },
      "source": [
        "for i in range(8):\n",
        "\n",
        "  x = alegrete_df.iloc[:,1]\n",
        "  y = alegrete_df.iloc[:,i+2]\n",
        "\n",
        "  x_ = transformer.transform(x)\n",
        "\n",
        "  x_\n",
        "  model = LinearRegression().fit(x_, y)\n"
      ],
      "execution_count": 135,
      "outputs": [
        {
          "output_type": "error",
          "ename": "NameError",
          "evalue": "ignored",
          "traceback": [
            "\u001b[0;31m---------------------------------------------------------------------------\u001b[0m",
            "\u001b[0;31mNameError\u001b[0m                                 Traceback (most recent call last)",
            "\u001b[0;32m<ipython-input-135-40c115e28c81>\u001b[0m in \u001b[0;36m<module>\u001b[0;34m()\u001b[0m\n\u001b[1;32m      4\u001b[0m   \u001b[0my\u001b[0m \u001b[0;34m=\u001b[0m \u001b[0malegrete_df\u001b[0m\u001b[0;34m.\u001b[0m\u001b[0miloc\u001b[0m\u001b[0;34m[\u001b[0m\u001b[0;34m:\u001b[0m\u001b[0;34m,\u001b[0m\u001b[0mi\u001b[0m\u001b[0;34m+\u001b[0m\u001b[0;36m2\u001b[0m\u001b[0;34m]\u001b[0m\u001b[0;34m\u001b[0m\u001b[0;34m\u001b[0m\u001b[0m\n\u001b[1;32m      5\u001b[0m \u001b[0;34m\u001b[0m\u001b[0m\n\u001b[0;32m----> 6\u001b[0;31m   \u001b[0mx_\u001b[0m \u001b[0;34m=\u001b[0m \u001b[0mtransformer\u001b[0m\u001b[0;34m.\u001b[0m\u001b[0mtransform\u001b[0m\u001b[0;34m(\u001b[0m\u001b[0mx\u001b[0m\u001b[0;34m)\u001b[0m\u001b[0;34m\u001b[0m\u001b[0;34m\u001b[0m\u001b[0m\n\u001b[0m\u001b[1;32m      7\u001b[0m \u001b[0;34m\u001b[0m\u001b[0m\n\u001b[1;32m      8\u001b[0m   \u001b[0mx_\u001b[0m\u001b[0;34m\u001b[0m\u001b[0;34m\u001b[0m\u001b[0m\n",
            "\u001b[0;31mNameError\u001b[0m: name 'transformer' is not defined"
          ]
        }
      ]
    }
  ]
}
